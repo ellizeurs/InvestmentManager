{
  "nbformat": 4,
  "nbformat_minor": 0,
  "metadata": {
    "colab": {
      "provenance": [],
      "collapsed_sections": [
        "-kwdwH1ve6KO",
        "dvTsNY86oF3W",
        "fRO7LqE0o_6q",
        "QQc7BFvLqAX2"
      ]
    },
    "kernelspec": {
      "name": "python3",
      "display_name": "Python 3"
    },
    "language_info": {
      "name": "python"
    }
  },
  "cells": [
    {
      "cell_type": "markdown",
      "source": [
        "# Instalação de Bibliotecas"
      ],
      "metadata": {
        "id": "EYaKcwr4TOL5"
      }
    },
    {
      "cell_type": "code",
      "source": [
        "!pip install git+https://github.com/ellizeurs/InvestmentManager"
      ],
      "metadata": {
        "id": "2RPU2Wg-Ik9Y"
      },
      "execution_count": null,
      "outputs": []
    },
    {
      "cell_type": "markdown",
      "source": [
        "# Importação de Bibliotecas"
      ],
      "metadata": {
        "id": "0_SJSqEQTUC_"
      }
    },
    {
      "cell_type": "code",
      "source": [
        "from InvestmentManager import InvestmentManager"
      ],
      "metadata": {
        "id": "XWc5DmioTZDv"
      },
      "execution_count": null,
      "outputs": []
    },
    {
      "cell_type": "markdown",
      "source": [
        "# Definição de Constantes"
      ],
      "metadata": {
        "id": "aiPPiqCCToiY"
      }
    },
    {
      "cell_type": "code",
      "source": [
        "DB_LINK = 'sqlite:///db.sqlite'"
      ],
      "metadata": {
        "id": "ojHNDVe_TrES"
      },
      "execution_count": null,
      "outputs": []
    },
    {
      "cell_type": "markdown",
      "source": [
        "# Criação do DB"
      ],
      "metadata": {
        "id": "2ngaah0BThMu"
      }
    },
    {
      "cell_type": "code",
      "source": [
        "investments_manager = InvestmentManager(DB_LINK)\n",
        "investments_manager.create_db('name@email.com', 'name')"
      ],
      "metadata": {
        "id": "-lHQ8tQ02Q_-"
      },
      "execution_count": null,
      "outputs": []
    },
    {
      "cell_type": "markdown",
      "source": [
        "# Editar Notas de Corretagem"
      ],
      "metadata": {
        "id": "p43u2P4k21SA"
      }
    },
    {
      "cell_type": "markdown",
      "source": [
        "## Cadastrar Nota de Corretagem"
      ],
      "metadata": {
        "id": "qXKBjjpRVTEk"
      }
    },
    {
      "cell_type": "code",
      "source": [
        "investments_manager = InvestmentManager(DB_LINK)\n",
        "investments_manager.add_brokerage_note()"
      ],
      "metadata": {
        "id": "XQT_8U0RVSlT"
      },
      "execution_count": null,
      "outputs": []
    },
    {
      "cell_type": "markdown",
      "source": [
        "## Remover Nota de Corretagem"
      ],
      "metadata": {
        "id": "zu2mBmRC2m0r"
      }
    },
    {
      "cell_type": "code",
      "source": [
        "investments_manager = InvestmentManager(DB_LINK)\n",
        "investments_manager.delete_brokerage_note(1234)"
      ],
      "metadata": {
        "id": "dzsOggQ1wT31"
      },
      "execution_count": null,
      "outputs": []
    },
    {
      "cell_type": "markdown",
      "source": [
        "# Consultar Dados"
      ],
      "metadata": {
        "id": "mE_nEEZcgrLX"
      }
    },
    {
      "cell_type": "markdown",
      "source": [
        "## 2023"
      ],
      "metadata": {
        "id": "-kwdwH1ve6KO"
      }
    },
    {
      "cell_type": "code",
      "source": [
        "year = 2023"
      ],
      "metadata": {
        "id": "pBtf39TEoKT4"
      },
      "execution_count": null,
      "outputs": []
    },
    {
      "cell_type": "markdown",
      "source": [
        "### Notas de Corretagem"
      ],
      "metadata": {
        "id": "wMLdo-5nP3J5"
      }
    },
    {
      "cell_type": "code",
      "source": [
        "investments_manager = InvestmentManager(DB_LINK)\n",
        "investments_manager.brokerage_notes(year)"
      ],
      "metadata": {
        "id": "3xZoL1hDfsLr"
      },
      "execution_count": null,
      "outputs": []
    },
    {
      "cell_type": "markdown",
      "source": [
        "#### Taxas"
      ],
      "metadata": {
        "id": "i-KKRv2gF9iE"
      }
    },
    {
      "cell_type": "code",
      "source": [
        "investments_manager = InvestmentManager(DB_LINK)\n",
        "investments_manager.impost(year)"
      ],
      "metadata": {
        "id": "HKoogR0jGAZ3"
      },
      "execution_count": null,
      "outputs": []
    },
    {
      "cell_type": "markdown",
      "source": [
        "### Resumo"
      ],
      "metadata": {
        "id": "cXtd4QjfP_QB"
      }
    },
    {
      "cell_type": "code",
      "source": [
        "investments_manager = InvestmentManager(DB_LINK)\n",
        "investments_manager.resume(year)"
      ],
      "metadata": {
        "id": "ZY1KEyaKhQNj"
      },
      "execution_count": null,
      "outputs": []
    },
    {
      "cell_type": "markdown",
      "source": [
        "### Imposto de Renda"
      ],
      "metadata": {
        "id": "39UKnYN9QDZ_"
      }
    },
    {
      "cell_type": "markdown",
      "source": [
        "#### Ações, BDRs, ETFs"
      ],
      "metadata": {
        "id": "NBVjCTf3QF5O"
      }
    },
    {
      "cell_type": "markdown",
      "source": [
        "##### Swing Trade"
      ],
      "metadata": {
        "id": "cujWhTZuQIlh"
      }
    },
    {
      "cell_type": "code",
      "source": [
        "investments_manager = InvestmentManager(DB_LINK)\n",
        "investments_manager.ir_table_stock_swing_trade(year)"
      ],
      "metadata": {
        "id": "vylu-kMso-Yv"
      },
      "execution_count": null,
      "outputs": []
    },
    {
      "cell_type": "markdown",
      "source": [
        "##### Day Trade"
      ],
      "metadata": {
        "id": "dQ-ipMabR3GL"
      }
    },
    {
      "cell_type": "code",
      "source": [
        "investments_manager = InvestmentManager(DB_LINK)\n",
        "investments_manager.ir_table_stock_day_trade(year)"
      ],
      "metadata": {
        "id": "Fep3gmMFR51m"
      },
      "execution_count": null,
      "outputs": []
    },
    {
      "cell_type": "markdown",
      "source": [
        "#### FIIs e FIAGROs"
      ],
      "metadata": {
        "id": "jAHKtFU0QRoL"
      }
    },
    {
      "cell_type": "code",
      "source": [
        "investments_manager = InvestmentManager(DB_LINK)\n",
        "investments_manager.ir_table_fii(year)"
      ],
      "metadata": {
        "id": "zOLctXneP7ln"
      },
      "execution_count": null,
      "outputs": []
    },
    {
      "cell_type": "markdown",
      "source": [
        "#### Declaração de Bens e Direitos"
      ],
      "metadata": {
        "id": "FpjDKijIlGDg"
      }
    },
    {
      "cell_type": "code",
      "source": [
        "investments_manager = InvestmentManager(DB_LINK)\n",
        "investments_manager.year_diff(year)"
      ],
      "metadata": {
        "id": "9w59BS3FlJKH"
      },
      "execution_count": null,
      "outputs": []
    },
    {
      "cell_type": "markdown",
      "source": [
        "## Geral"
      ],
      "metadata": {
        "id": "QQc7BFvLqAX2"
      }
    },
    {
      "cell_type": "markdown",
      "source": [
        "### Notas de Corretagem"
      ],
      "metadata": {
        "id": "eAQnRi3hTcKo"
      }
    },
    {
      "cell_type": "code",
      "source": [
        "investments_manager = InvestmentManager(DB_LINK)\n",
        "investments_manager.brokerage_notes()"
      ],
      "metadata": {
        "id": "twspj6pshMY3"
      },
      "execution_count": null,
      "outputs": []
    },
    {
      "cell_type": "markdown",
      "source": [
        "#### Taxas"
      ],
      "metadata": {
        "id": "cW-FIiseGsuN"
      }
    },
    {
      "cell_type": "code",
      "source": [
        "investments_manager = InvestmentManager(DB_LINK)\n",
        "investments_manager.impost()"
      ],
      "metadata": {
        "id": "CySeJ9OIGuG4"
      },
      "execution_count": null,
      "outputs": []
    },
    {
      "cell_type": "markdown",
      "source": [
        "### Resumo"
      ],
      "metadata": {
        "id": "-9a1V483TfOa"
      }
    },
    {
      "cell_type": "code",
      "source": [
        "investments_manager = InvestmentManager(DB_LINK)\n",
        "investments_manager.resume()"
      ],
      "metadata": {
        "id": "wOcxZnFLGRVM"
      },
      "execution_count": null,
      "outputs": []
    },
    {
      "cell_type": "markdown",
      "source": [
        "### Imposto de Renda"
      ],
      "metadata": {
        "id": "2-bMnwknThmc"
      }
    },
    {
      "cell_type": "markdown",
      "source": [
        "#### Ações, BDRs, ETFs"
      ],
      "metadata": {
        "id": "3oHDptjATkDv"
      }
    },
    {
      "cell_type": "markdown",
      "source": [
        "##### Swing Trade"
      ],
      "metadata": {
        "id": "YYdTer6zTnQ-"
      }
    },
    {
      "cell_type": "code",
      "source": [
        "investments_manager = InvestmentManager(DB_LINK)\n",
        "investments_manager.ir_table_stock_swing_trade()"
      ],
      "metadata": {
        "id": "2CCQCsin714G"
      },
      "execution_count": null,
      "outputs": []
    },
    {
      "cell_type": "markdown",
      "source": [
        "##### Day Trade"
      ],
      "metadata": {
        "id": "m5E_jUXVTq76"
      }
    },
    {
      "cell_type": "code",
      "source": [
        "investments_manager = InvestmentManager(DB_LINK)\n",
        "investments_manager.ir_table_stock_day_trade()"
      ],
      "metadata": {
        "id": "SyE2w-S0Tsnt"
      },
      "execution_count": null,
      "outputs": []
    },
    {
      "cell_type": "markdown",
      "source": [
        "### FIIs e FIAGROs"
      ],
      "metadata": {
        "id": "vXGSvof8TuGk"
      }
    },
    {
      "cell_type": "code",
      "source": [
        "investments_manager = InvestmentManager(DB_LINK)\n",
        "investments_manager.ir_table_fii()"
      ],
      "metadata": {
        "id": "PLxxsyQvJKzU"
      },
      "execution_count": null,
      "outputs": []
    },
    {
      "cell_type": "markdown",
      "source": [
        "### Declaração de Bens e Direitos"
      ],
      "metadata": {
        "id": "6FI-5w9vENSE"
      }
    },
    {
      "cell_type": "code",
      "source": [
        "investments_manager = InvestmentManager(DB_LINK)\n",
        "investments_manager.year_diff()"
      ],
      "metadata": {
        "id": "gFzd8TOfEQEL"
      },
      "execution_count": null,
      "outputs": []
    }
  ]
}